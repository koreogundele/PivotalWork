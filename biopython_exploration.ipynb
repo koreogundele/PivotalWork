{
 "cells": [
  {
   "cell_type": "markdown",
   "metadata": {},
   "source": [
    "# In this notebook, I do some exploration of SeqIO from the Biopython package. The function I plan to use with DeepFRI can be found in this notebook.\n",
    "## Author: Korede Ogundele\n",
    "## Date Created: March 4, 2024\n",
    "## Last Modified: March 22, 2024"
   ]
  },
  {
   "cell_type": "code",
   "execution_count": 1,
   "metadata": {},
   "outputs": [],
   "source": [
    "from Bio import SeqIO\n",
    "import os"
   ]
  },
  {
   "cell_type": "markdown",
   "metadata": {},
   "source": [
    "### Print descriptions of NACHT; 6 isoforms of one protein."
   ]
  },
  {
   "cell_type": "code",
   "execution_count": 2,
   "metadata": {},
   "outputs": [
    {
     "name": "stdout",
     "output_type": "stream",
     "text": [
      "sp|Q96P20|NLRP3_HUMAN NACHT, LRR and PYD domains-containing protein 3 OS=Homo sapiens OX=9606 GN=NLRP3 PE=1 SV=3\n",
      "sp|Q96P20-2|NLRP3_HUMAN Isoform 1 of NACHT, LRR and PYD domains-containing protein 3 OS=Homo sapiens OX=9606 GN=NLRP3\n",
      "sp|Q96P20-3|NLRP3_HUMAN Isoform 3 of NACHT, LRR and PYD domains-containing protein 3 OS=Homo sapiens OX=9606 GN=NLRP3\n",
      "sp|Q96P20-4|NLRP3_HUMAN Isoform 4 of NACHT, LRR and PYD domains-containing protein 3 OS=Homo sapiens OX=9606 GN=NLRP3\n",
      "sp|Q96P20-5|NLRP3_HUMAN Isoform 5 of NACHT, LRR and PYD domains-containing protein 3 OS=Homo sapiens OX=9606 GN=NLRP3\n",
      "sp|Q96P20-6|NLRP3_HUMAN Isoform 6 of NACHT, LRR and PYD domains-containing protein 3 OS=Homo sapiens OX=9606 GN=NLRP3\n"
     ]
    }
   ],
   "source": [
    "# read file and print descriptions for each isoform\n",
    "for isoform in SeqIO.parse(\"nacht.fasta\", \"fasta\"):\n",
    "    print(isoform.description)"
   ]
  },
  {
   "cell_type": "markdown",
   "metadata": {},
   "source": [
    "Each record is a SeqRecord, each with the following attributes: \n",
    "'annotations',\n",
    " 'dbxrefs',\n",
    " 'description',\n",
    " 'features',\n",
    " 'format',\n",
    " 'id',\n",
    " 'letter_annotations',\n",
    " 'lower',\n",
    " 'name',\n",
    " 'reverse_complement',\n",
    " 'seq',\n",
    " 'translate',\n",
    " 'upper'\n",
    "\n",
    "\n",
    " \n",
    " ### We can write the output to a file using the SeqIO write function."
   ]
  },
  {
   "cell_type": "code",
   "execution_count": 3,
   "metadata": {},
   "outputs": [],
   "source": [
    "with open(\"output.fasta\", \"w\") as output_file:\n",
    "    SeqIO.write(isoform, output_file, \"fasta\")"
   ]
  },
  {
   "cell_type": "code",
   "execution_count": 10,
   "metadata": {},
   "outputs": [
    {
     "data": {
      "text/plain": [
       "<bound method SeqRecord.format of SeqRecord(seq=Seq('MKMASTRCKLARYLEDLEDVDLKKFKMHLEDYPPQKGCIPLPRGQTEKADHVDL...PSW'), id='sp|Q96P20-6|NLRP3_HUMAN', name='sp|Q96P20-6|NLRP3_HUMAN', description='sp|Q96P20-6|NLRP3_HUMAN Isoform 6 of NACHT, LRR and PYD domains-containing protein 3 OS=Homo sapiens OX=9606 GN=NLRP3', dbxrefs=[])>"
      ]
     },
     "execution_count": 10,
     "metadata": {},
     "output_type": "execute_result"
    }
   ],
   "source": [
    "isoform.format"
   ]
  },
  {
   "cell_type": "markdown",
   "metadata": {},
   "source": [
    "## Get a set of all protein names from UniProt file with all human protein sequences."
   ]
  },
  {
   "cell_type": "code",
   "execution_count": 4,
   "metadata": {},
   "outputs": [],
   "source": [
    "#create empty set\n",
    "protein_set = set()\n",
    "\n",
    "# read file and append descriptions for each protein to set\n",
    "for protein in SeqIO.parse(\"uniprotkb_proteome_human.fasta\", \"fasta\"):\n",
    "    # splice string to only insert protein name (not name with isoform code) to set\n",
    "    protein_set.add(protein.name.split(\"|\")[2])"
   ]
  },
  {
   "cell_type": "markdown",
   "metadata": {},
   "source": [
    "### UniProtKB gave 82,485 human proteins. If the set has been constructed properly, it should have this exact number of proteins in it."
   ]
  },
  {
   "cell_type": "code",
   "execution_count": 22,
   "metadata": {},
   "outputs": [
    {
     "data": {
      "text/plain": [
       "82485"
      ]
     },
     "execution_count": 22,
     "metadata": {},
     "output_type": "execute_result"
    }
   ],
   "source": [
    "len(protein_set)"
   ]
  },
  {
   "cell_type": "markdown",
   "metadata": {},
   "source": [
    "Success."
   ]
  },
  {
   "cell_type": "markdown",
   "metadata": {},
   "source": [
    "## Function to select certain proteins from a fasta file and output to another fasta file\n",
    "This will be used to select each protein from the set and print its fasta sequences to an individual file (filename being protein name)."
   ]
  },
  {
   "cell_type": "code",
   "execution_count": 40,
   "metadata": {},
   "outputs": [],
   "source": [
    "def filter_sequences(input_filename, desired_protein):\n",
    "    \"\"\"\n",
    "    This function reads through a file of many FASTA sequences and selects those for a particular protein.\n",
    "    The sequences are then written and stored in an output file.\n",
    "\n",
    "    Arguments\n",
    "    ---------\n",
    "    input_filename : str\n",
    "        name of the input FASTA file.\n",
    "    output_filename : str\n",
    "        name of the output FASTA file.\n",
    "    desired_proteins : list\n",
    "        list of proteins to keep and write to output file\n",
    "\n",
    "    Returns\n",
    "    -------\n",
    "    *.fasta : fasta file\n",
    "        fasta file containing desired protein sequences. The file will bear protein name.\n",
    "    \"\"\"\n",
    "    instances = []\n",
    "\n",
    "    # output file will have the name of the protein and be moved to individual_fastas folder\n",
    "    # CHANGE FILE PATH ACCORDINGLY\n",
    "    output_filename = f\"individual_fastas/{desired_protein}\"\n",
    "    \n",
    "    \n",
    "    # check if the output file already exists from previous run\n",
    "    if os.path.exists(output_filename):\n",
    "        print(f\"Output file '{output_filename}' already exists. Skipping '{desired_protein}'\")\n",
    "        return\n",
    "\n",
    "    for record in SeqIO.parse(input_filename, \"fasta\"):\n",
    "        # check if the protein sequence has the exact desired name\n",
    "        #protein_name = protein.name.split(\"|\")[2]\n",
    "        if desired_protein == record.name.split(\"|\")[2]:\n",
    "            # if so, add record to instance list\n",
    "            instances.append(record)\n",
    "    \n",
    "    \n",
    "    # write desired sequences to the output file\n",
    "    with open(output_filename, \"w\") as output_file:\n",
    "        SeqIO.write(instances, output_file, \"fasta\")\n",
    "\n",
    "\n",
    "# run the function on the whole set of proteins. \n",
    "for protein in protein_set:\n",
    "    print(f\"generating fasta file for {protein}\")\n",
    "    input_filename = \"uniprotkb_proteome_human.fasta\"\n",
    "    protein_to_select = protein\n",
    "    filter_sequences(input_filename, protein_to_select)"
   ]
  },
  {
   "cell_type": "code",
   "execution_count": null,
   "metadata": {},
   "outputs": [],
   "source": []
  },
  {
   "cell_type": "markdown",
   "metadata": {},
   "source": [
    "### Let's try with a small subset of proteins from protein_set first."
   ]
  },
  {
   "cell_type": "code",
   "execution_count": 43,
   "metadata": {},
   "outputs": [],
   "source": [
    "mini_list = list(protein_set)[:10]\n",
    "\n",
    "\n",
    "for protein in mini_list:\n",
    "    input_filename = \"uniprotkb_proteome_human.fasta\"\n",
    "    protein_to_select = protein\n",
    "    filter_sequences(input_filename, protein_to_select)"
   ]
  },
  {
   "cell_type": "markdown",
   "metadata": {},
   "source": [
    "### Success! Now we run the function on the whole set of proteins. Outputs will be moved the file individual_fastas, which will not be pushed to the respository."
   ]
  },
  {
   "cell_type": "code",
   "execution_count": 44,
   "metadata": {},
   "outputs": [],
   "source": [
    "for protein in protein_set:\n",
    "    input_filename = \"uniprotkb_proteome_human.fasta\"\n",
    "    protein_to_select = protein\n",
    "    filter_sequences(input_filename, protein_to_select)"
   ]
  }
 ],
 "metadata": {
  "kernelspec": {
   "display_name": "machine-learning",
   "language": "python",
   "name": "python3"
  },
  "language_info": {
   "codemirror_mode": {
    "name": "ipython",
    "version": 3
   },
   "file_extension": ".py",
   "mimetype": "text/x-python",
   "name": "python",
   "nbconvert_exporter": "python",
   "pygments_lexer": "ipython3",
   "version": "3.11.5"
  },
  "orig_nbformat": 4
 },
 "nbformat": 4,
 "nbformat_minor": 2
}
