{
 "cells": [
  {
   "cell_type": "markdown",
   "metadata": {},
   "source": [
    "# In this notebook, I use UniProt's RESTful API to access GO terms and EC numbers for specific proteins. This will be done through Python's requests library.\n",
    "## Author: Korede Ogundele\n",
    "## Date Created: March 11, 2024\n",
    "## Last Modified: March 22, 2024"
   ]
  },
  {
   "cell_type": "code",
   "execution_count": 1,
   "metadata": {},
   "outputs": [],
   "source": [
    "import requests\n",
    "import re\n",
    "from bs4 import BeautifulSoup # for using XML response format"
   ]
  },
  {
   "cell_type": "markdown",
   "metadata": {},
   "source": [
    "The function below uses requests.get to get protein data from UniProt's API, extracts the relevant information into named variables, then returns a tuple.\n",
    "\n",
    "### function below does not work"
   ]
  },
  {
   "cell_type": "code",
   "execution_count": null,
   "metadata": {},
   "outputs": [],
   "source": [
    "def get_protein_info(protein_id):\n",
    "    \"\"\"\n",
    "    This function uses UniProt's API to retrive information for specific proteins.\n",
    "\n",
    "    Arguments\n",
    "    ---------\n",
    "    protein_id : str\n",
    "        ID of protein whose info we want\n",
    "\n",
    "    Returns\n",
    "    -------\n",
    "    protein_name : \n",
    "    go_terms : \n",
    "    ec_numbers : \n",
    "\n",
    "    \"\"\"\n",
    "\n",
    "    url = 'https://rest.uniprot.org/uniprotkb/stream?compressed=false&format=fasta&query=%28organism_id%3A2697049%29%20AND%20%28reviewed%3Atrue%29'\n",
    "\n",
    "    # create a dictionary containing parameters for the UniProt API request.\n",
    "    params = {\n",
    "        \"query\": f\"id:{protein_id}\",\n",
    "        \"format\": \"json\",\n",
    "        \"columns\": \"id,entry_name,go(molecular function),ec\", # columns to retrieve\n",
    "    }\n",
    "\n",
    "    # send HTTP GET request to UniProt API\n",
    "    all_fastas = requests.get(url, params=params).text\n",
    "\n",
    "\n",
    "    # # convert response to Python dictionary w/ json method\n",
    "    # data = response.json()\n",
    "\n",
    "    # # extract relevant information\n",
    "    # entry = data[\"entries\"][0]\n",
    "    # protein_name = entry[\"entry_name\"]\n",
    "    # go_terms = entry.get(\"go\", {}).get(\"MF\", [])\n",
    "    # ec_numbers = entry.get(\"ec\", [])\n",
    "\n",
    "    # return protein_name, go_terms, ec_numbers\n",
    "    "
   ]
  },
  {
   "cell_type": "markdown",
   "metadata": {},
   "source": [
    "### The following two cells contain the provided example code from UniProt's api access instructions"
   ]
  },
  {
   "cell_type": "code",
   "execution_count": null,
   "metadata": {},
   "outputs": [],
   "source": [
    "url = \"https://rest.uniprot.org/uniprotkb/search?groupBy=go&query=%28reviewed%3Atrue%29+AND+%28organism_id%3A9606%29\"\n",
    "all_fastas = requests.get(url).text"
   ]
  },
  {
   "cell_type": "markdown",
   "metadata": {},
   "source": [
    "To get a single result, such as all all sequences with header mentioning SPIKE"
   ]
  },
  {
   "cell_type": "code",
   "execution_count": null,
   "metadata": {},
   "outputs": [],
   "source": [
    "fasta_list = re.split(r'\\n(?=>)', all_fastas)\n",
    "[fasta for fasta in fasta_list if 'SPIKE' in fasta]"
   ]
  },
  {
   "cell_type": "markdown",
   "metadata": {},
   "source": [
    "# ~~~\n",
    "# the following two cells work but outputs fastas of all proteins for an organism"
   ]
  },
  {
   "cell_type": "code",
   "execution_count": null,
   "metadata": {},
   "outputs": [],
   "source": [
    "def get_protein_info_for_organism(organism_id, reviewed_only=True):\n",
    "\n",
    "    base_url = \"https://rest.uniprot.org/uniprotkb/stream\"\n",
    "    \n",
    "    # query parameters\n",
    "    query_params = {\n",
    "        \"compressed\": \"false\",\n",
    "        \"format\": \"fasta\",\n",
    "        \"query\": f\"(organism_id:{organism_id})\",    }\n",
    "    \n",
    "\n",
    "    # send HTTP GET request to UniProt API\n",
    "    response = requests.get(base_url, params=query_params)\n",
    "    \n",
    "    # check if request was successful. print error otherwise\n",
    "    if response.status_code == 200:\n",
    "        return response.text\n",
    "    else:\n",
    "        print(f\"Error accessing UniProt API. Status code: {response.status_code}\")\n",
    "        return None"
   ]
  },
  {
   "cell_type": "code",
   "execution_count": null,
   "metadata": {},
   "outputs": [],
   "source": [
    "organism_id = 2697049  # human\n",
    "protein_info = get_protein_info_for_organism(organism_id)\n",
    "\n",
    "protein_info"
   ]
  },
  {
   "cell_type": "markdown",
   "metadata": {},
   "source": [
    "# ~~~ \n",
    "\n",
    "# WORKING ON FUNCTION BELOW \n",
    "### i've got go and ec urls. now figure out how to extract info for particular proteins from the soup."
   ]
  },
  {
   "cell_type": "code",
   "execution_count": 14,
   "metadata": {},
   "outputs": [],
   "source": [
    "def get_protein_info(protein_id):\n",
    "  \"\"\"\n",
    "  This function retrieves protein information from UniProt's REST API based on protein ID.\n",
    "\n",
    "  Arguments\n",
    "  ---------\n",
    "  protein_id : str\n",
    "    protein ID\n",
    "\n",
    "  Returns\n",
    "  -------\n",
    "  protein_info : dictionary\n",
    "    dictionary containing protein information (GO, EC, etc.)\n",
    "  \"\"\"\n",
    "\n",
    "  # base_url = \"https://rest.uniprot.org/uniprotkb/search?query=human&fields=accession,xref_proteomes\"\n",
    "  go_url = \"https://rest.uniprot.org/uniprotkb/search?groupBy=go&query=%28reviewed%3Atrue%29+AND+%28organism_id%3A9606%29\"\n",
    "  #ec_url = \"https://rest.uniprot.org/uniprotkb/search?groupBy=ec&query=%28reviewed%3Atrue%29+AND+%28organism_id%3A9606%29\"\n",
    "\n",
    "  # build query string with protein ID\n",
    "  #url = f\"{base_url}/{protein_id}\"\n",
    "  \n",
    "  try:\n",
    "    # send get request to UniProt API\n",
    "    response = requests.get(go_url)\n",
    "    response.raise_for_status()  # Raise error for any status code other than 200\n",
    "    print(\"*Status raise passed\")\n",
    "\n",
    "    # change response to string\n",
    "    response_data = response.text\n",
    "\n",
    "    # parse the XML response\n",
    "    soup = BeautifulSoup(response_data, 'html.parser')\n",
    "    print(\"*Parsing complete\")\n",
    "\n",
    "    # make dictionary for protein info\n",
    "    protein_info = {}\n",
    "\n",
    "    # get GO terms\n",
    "    go_terms = []\n",
    "    for go in soup.find_all('GO'):\n",
    "      print(\"*Entering loop to find GO terms\")\n",
    "      go_terms.append(go.text.strip())\n",
    "    protein_info[\"GO\"] = go_terms\n",
    "\n",
    "    # get EC numbers\n",
    "    ec_numbers = []\n",
    "    for ec in soup.find_all('ec'):\n",
    "      ec_numbers.append(ec.text.strip())\n",
    "      print(\"*Found EC number\")\n",
    "    protein_info[\"EC\"] = ec_numbers\n",
    "\n",
    "    return protein_info\n",
    "\n",
    "  except requests.HTTPError as err:\n",
    "    print(f\"Error retrieving protein information: {err}\")\n",
    "    return None\n",
    "  except Exception as e:\n",
    "    print(f\"Unexpected error parsing response: {e}\")\n",
    "    return None"
   ]
  },
  {
   "cell_type": "markdown",
   "metadata": {},
   "source": [
    "Not every protein has EC and GO; make sure you test with one that does"
   ]
  },
  {
   "cell_type": "code",
   "execution_count": 15,
   "metadata": {},
   "outputs": [
    {
     "name": "stdout",
     "output_type": "stream",
     "text": [
      "*Status raise passed\n",
      "*Parsing complete\n",
      "Protein ID: 25738459\n",
      "GO terms: \n",
      "EC numbers: \n"
     ]
    }
   ],
   "source": [
    "protein_id = \"25738459\" \n",
    "protein_data = get_protein_info(protein_id)\n",
    "\n",
    "if protein_data:\n",
    "  print(f\"Protein ID: {protein_id}\")\n",
    "  print(f\"GO terms: {', '.join(protein_data['GO'])}\")\n",
    "  print(f\"EC numbers: {', '.join(protein_data['EC'])}\")\n",
    "else:\n",
    "  print(\"No protein information found.\")"
   ]
  },
  {
   "cell_type": "code",
   "execution_count": 12,
   "metadata": {},
   "outputs": [],
   "source": [
    "%%capture cap\n",
    "\n",
    "print(protein_data)\n",
    "\n",
    "# Save the captured output to a text file\n",
    "with open('output.txt', 'w') as file:\n",
    "    file.write(cap.stdout)"
   ]
  },
  {
   "cell_type": "code",
   "execution_count": null,
   "metadata": {},
   "outputs": [],
   "source": []
  }
 ],
 "metadata": {
  "kernelspec": {
   "display_name": "machine-learning",
   "language": "python",
   "name": "python3"
  },
  "language_info": {
   "codemirror_mode": {
    "name": "ipython",
    "version": 3
   },
   "file_extension": ".py",
   "mimetype": "text/x-python",
   "name": "python",
   "nbconvert_exporter": "python",
   "pygments_lexer": "ipython3",
   "version": "3.11.5"
  },
  "orig_nbformat": 4
 },
 "nbformat": 4,
 "nbformat_minor": 2
}
